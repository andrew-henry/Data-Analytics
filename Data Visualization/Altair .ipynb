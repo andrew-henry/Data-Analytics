{
 "cells": [
  {
   "cell_type": "markdown",
   "metadata": {},
   "source": [
    "### Altair \n",
    "     a declarative statistical visualization library for Python"
   ]
  },
  {
   "cell_type": "code",
   "execution_count": 1,
   "metadata": {},
   "outputs": [],
   "source": [
    "import pandas as pd\n",
    "import numpy as np\n",
    "import altair as alt\n",
    "from altair_saver import save\n",
    "import pandas_datareader.data as web\n",
    "from datetime import datetime"
   ]
  },
  {
   "cell_type": "code",
   "execution_count": 2,
   "metadata": {},
   "outputs": [],
   "source": [
    "data = web.DataReader(\n",
    "    name='sp500', \n",
    "    data_source='fred', \n",
    "    start=datetime(2000, 1, 1), \n",
    "    end=datetime.now() \n",
    ")"
   ]
  },
  {
   "cell_type": "code",
   "execution_count": 3,
   "metadata": {},
   "outputs": [],
   "source": [
    "data = data.resample('M').mean()\n",
    "data = data.reset_index()\n",
    "data.columns = ['Date', 'Value']\n",
    "data['Value'] = data['Value'].apply(lambda x: np.round(x, 2))"
   ]
  },
  {
   "cell_type": "code",
   "execution_count": 4,
   "metadata": {},
   "outputs": [
    {
     "data": {
      "text/html": [
       "<div>\n",
       "<style scoped>\n",
       "    .dataframe tbody tr th:only-of-type {\n",
       "        vertical-align: middle;\n",
       "    }\n",
       "\n",
       "    .dataframe tbody tr th {\n",
       "        vertical-align: top;\n",
       "    }\n",
       "\n",
       "    .dataframe thead th {\n",
       "        text-align: right;\n",
       "    }\n",
       "</style>\n",
       "<table border=\"1\" class=\"dataframe\">\n",
       "  <thead>\n",
       "    <tr style=\"text-align: right;\">\n",
       "      <th></th>\n",
       "      <th>Date</th>\n",
       "      <th>Value</th>\n",
       "    </tr>\n",
       "  </thead>\n",
       "  <tbody>\n",
       "    <tr>\n",
       "      <th>0</th>\n",
       "      <td>2011-06-30</td>\n",
       "      <td>1301.21</td>\n",
       "    </tr>\n",
       "    <tr>\n",
       "      <th>1</th>\n",
       "      <td>2011-07-31</td>\n",
       "      <td>1325.18</td>\n",
       "    </tr>\n",
       "    <tr>\n",
       "      <th>2</th>\n",
       "      <td>2011-08-31</td>\n",
       "      <td>1185.31</td>\n",
       "    </tr>\n",
       "    <tr>\n",
       "      <th>3</th>\n",
       "      <td>2011-09-30</td>\n",
       "      <td>1173.88</td>\n",
       "    </tr>\n",
       "    <tr>\n",
       "      <th>4</th>\n",
       "      <td>2011-10-31</td>\n",
       "      <td>1207.22</td>\n",
       "    </tr>\n",
       "  </tbody>\n",
       "</table>\n",
       "</div>"
      ],
      "text/plain": [
       "        Date    Value\n",
       "0 2011-06-30  1301.21\n",
       "1 2011-07-31  1325.18\n",
       "2 2011-08-31  1185.31\n",
       "3 2011-09-30  1173.88\n",
       "4 2011-10-31  1207.22"
      ]
     },
     "execution_count": 4,
     "metadata": {},
     "output_type": "execute_result"
    }
   ],
   "source": [
    "data.head()"
   ]
  },
  {
   "cell_type": "code",
   "execution_count": 5,
   "metadata": {},
   "outputs": [
    {
     "name": "stdout",
     "output_type": "stream",
     "text": [
      "<class 'pandas.core.frame.DataFrame'>\n",
      "RangeIndex: 121 entries, 0 to 120\n",
      "Data columns (total 2 columns):\n",
      "Date     121 non-null datetime64[ns]\n",
      "Value    121 non-null float64\n",
      "dtypes: datetime64[ns](1), float64(1)\n",
      "memory usage: 2.0 KB\n"
     ]
    }
   ],
   "source": [
    "data.info()"
   ]
  },
  {
   "cell_type": "code",
   "execution_count": 6,
   "metadata": {},
   "outputs": [
    {
     "data": {
      "text/html": [
       "\n",
       "<div id=\"altair-viz-0436f38cc2ea4e51afb43df75a67f2d6\"></div>\n",
       "<script type=\"text/javascript\">\n",
       "  (function(spec, embedOpt){\n",
       "    let outputDiv = document.currentScript.previousElementSibling;\n",
       "    if (outputDiv.id !== \"altair-viz-0436f38cc2ea4e51afb43df75a67f2d6\") {\n",
       "      outputDiv = document.getElementById(\"altair-viz-0436f38cc2ea4e51afb43df75a67f2d6\");\n",
       "    }\n",
       "    const paths = {\n",
       "      \"vega\": \"https://cdn.jsdelivr.net/npm//vega@5?noext\",\n",
       "      \"vega-lib\": \"https://cdn.jsdelivr.net/npm//vega-lib?noext\",\n",
       "      \"vega-lite\": \"https://cdn.jsdelivr.net/npm//vega-lite@4.8.1?noext\",\n",
       "      \"vega-embed\": \"https://cdn.jsdelivr.net/npm//vega-embed@6?noext\",\n",
       "    };\n",
       "\n",
       "    function loadScript(lib) {\n",
       "      return new Promise(function(resolve, reject) {\n",
       "        var s = document.createElement('script');\n",
       "        s.src = paths[lib];\n",
       "        s.async = true;\n",
       "        s.onload = () => resolve(paths[lib]);\n",
       "        s.onerror = () => reject(`Error loading script: ${paths[lib]}`);\n",
       "        document.getElementsByTagName(\"head\")[0].appendChild(s);\n",
       "      });\n",
       "    }\n",
       "\n",
       "    function showError(err) {\n",
       "      outputDiv.innerHTML = `<div class=\"error\" style=\"color:red;\">${err}</div>`;\n",
       "      throw err;\n",
       "    }\n",
       "\n",
       "    function displayChart(vegaEmbed) {\n",
       "      vegaEmbed(outputDiv, spec, embedOpt)\n",
       "        .catch(err => showError(`Javascript Error: ${err.message}<br>This usually means there's a typo in your chart specification. See the javascript console for the full traceback.`));\n",
       "    }\n",
       "\n",
       "    if(typeof define === \"function\" && define.amd) {\n",
       "      requirejs.config({paths});\n",
       "      require([\"vega-embed\"], displayChart, err => showError(`Error loading script: ${err.message}`));\n",
       "    } else if (typeof vegaEmbed === \"function\") {\n",
       "      displayChart(vegaEmbed);\n",
       "    } else {\n",
       "      loadScript(\"vega\")\n",
       "        .then(() => loadScript(\"vega-lite\"))\n",
       "        .then(() => loadScript(\"vega-embed\"))\n",
       "        .catch(showError)\n",
       "        .then(() => displayChart(vegaEmbed));\n",
       "    }\n",
       "  })({\"config\": {\"view\": {\"continuousWidth\": 400, \"continuousHeight\": 300}}, \"data\": {\"name\": \"data-a1a42ad9aaa60760370223a3996d7ac0\"}, \"mark\": {\"type\": \"area\", \"line\": {\"color\": \"black\"}}, \"encoding\": {\"x\": {\"type\": \"temporal\", \"field\": \"Date\"}, \"y\": {\"type\": \"quantitative\", \"field\": \"Value\"}}, \"$schema\": \"https://vega.github.io/schema/vega-lite/v4.8.1.json\", \"datasets\": {\"data-a1a42ad9aaa60760370223a3996d7ac0\": [{\"Date\": \"2011-06-30T00:00:00\", \"Value\": 1301.21}, {\"Date\": \"2011-07-31T00:00:00\", \"Value\": 1325.18}, {\"Date\": \"2011-08-31T00:00:00\", \"Value\": 1185.31}, {\"Date\": \"2011-09-30T00:00:00\", \"Value\": 1173.88}, {\"Date\": \"2011-10-31T00:00:00\", \"Value\": 1207.22}, {\"Date\": \"2011-11-30T00:00:00\", \"Value\": 1226.41}, {\"Date\": \"2011-12-31T00:00:00\", \"Value\": 1243.32}, {\"Date\": \"2012-01-31T00:00:00\", \"Value\": 1300.58}, {\"Date\": \"2012-02-29T00:00:00\", \"Value\": 1352.49}, {\"Date\": \"2012-03-31T00:00:00\", \"Value\": 1389.24}, {\"Date\": \"2012-04-30T00:00:00\", \"Value\": 1386.43}, {\"Date\": \"2012-05-31T00:00:00\", \"Value\": 1341.27}, {\"Date\": \"2012-06-30T00:00:00\", \"Value\": 1323.48}, {\"Date\": \"2012-07-31T00:00:00\", \"Value\": 1359.78}, {\"Date\": \"2012-08-31T00:00:00\", \"Value\": 1403.44}, {\"Date\": \"2012-09-30T00:00:00\", \"Value\": 1443.42}, {\"Date\": \"2012-10-31T00:00:00\", \"Value\": 1437.82}, {\"Date\": \"2012-11-30T00:00:00\", \"Value\": 1394.51}, {\"Date\": \"2012-12-31T00:00:00\", \"Value\": 1422.29}, {\"Date\": \"2013-01-31T00:00:00\", \"Value\": 1480.4}, {\"Date\": \"2013-02-28T00:00:00\", \"Value\": 1512.31}, {\"Date\": \"2013-03-31T00:00:00\", \"Value\": 1550.83}, {\"Date\": \"2013-04-30T00:00:00\", \"Value\": 1570.7}, {\"Date\": \"2013-05-31T00:00:00\", \"Value\": 1639.84}, {\"Date\": \"2013-06-30T00:00:00\", \"Value\": 1618.77}, {\"Date\": \"2013-07-31T00:00:00\", \"Value\": 1668.68}, {\"Date\": \"2013-08-31T00:00:00\", \"Value\": 1670.09}, {\"Date\": \"2013-09-30T00:00:00\", \"Value\": 1687.17}, {\"Date\": \"2013-10-31T00:00:00\", \"Value\": 1720.03}, {\"Date\": \"2013-11-30T00:00:00\", \"Value\": 1783.54}, {\"Date\": \"2013-12-31T00:00:00\", \"Value\": 1807.78}, {\"Date\": \"2014-01-31T00:00:00\", \"Value\": 1822.36}, {\"Date\": \"2014-02-28T00:00:00\", \"Value\": 1817.03}, {\"Date\": \"2014-03-31T00:00:00\", \"Value\": 1863.52}, {\"Date\": \"2014-04-30T00:00:00\", \"Value\": 1864.26}, {\"Date\": \"2014-05-31T00:00:00\", \"Value\": 1889.77}, {\"Date\": \"2014-06-30T00:00:00\", \"Value\": 1947.09}, {\"Date\": \"2014-07-31T00:00:00\", \"Value\": 1973.1}, {\"Date\": \"2014-08-31T00:00:00\", \"Value\": 1961.53}, {\"Date\": \"2014-09-30T00:00:00\", \"Value\": 1993.23}, {\"Date\": \"2014-10-31T00:00:00\", \"Value\": 1937.27}, {\"Date\": \"2014-11-30T00:00:00\", \"Value\": 2044.57}, {\"Date\": \"2014-12-31T00:00:00\", \"Value\": 2054.27}, {\"Date\": \"2015-01-31T00:00:00\", \"Value\": 2028.18}, {\"Date\": \"2015-02-28T00:00:00\", \"Value\": 2082.2}, {\"Date\": \"2015-03-31T00:00:00\", \"Value\": 2079.99}, {\"Date\": \"2015-04-30T00:00:00\", \"Value\": 2094.86}, {\"Date\": \"2015-05-31T00:00:00\", \"Value\": 2111.94}, {\"Date\": \"2015-06-30T00:00:00\", \"Value\": 2099.28}, {\"Date\": \"2015-07-31T00:00:00\", \"Value\": 2094.14}, {\"Date\": \"2015-08-31T00:00:00\", \"Value\": 2039.87}, {\"Date\": \"2015-09-30T00:00:00\", \"Value\": 1944.4}, {\"Date\": \"2015-10-31T00:00:00\", \"Value\": 2024.81}, {\"Date\": \"2015-11-30T00:00:00\", \"Value\": 2080.62}, {\"Date\": \"2015-12-31T00:00:00\", \"Value\": 2054.08}, {\"Date\": \"2016-01-31T00:00:00\", \"Value\": 1918.6}, {\"Date\": \"2016-02-29T00:00:00\", \"Value\": 1904.42}, {\"Date\": \"2016-03-31T00:00:00\", \"Value\": 2021.95}, {\"Date\": \"2016-04-30T00:00:00\", \"Value\": 2075.54}, {\"Date\": \"2016-05-31T00:00:00\", \"Value\": 2065.55}, {\"Date\": \"2016-06-30T00:00:00\", \"Value\": 2083.89}, {\"Date\": \"2016-07-31T00:00:00\", \"Value\": 2148.9}, {\"Date\": \"2016-08-31T00:00:00\", \"Value\": 2177.48}, {\"Date\": \"2016-09-30T00:00:00\", \"Value\": 2157.69}, {\"Date\": \"2016-10-31T00:00:00\", \"Value\": 2143.02}, {\"Date\": \"2016-11-30T00:00:00\", \"Value\": 2164.99}, {\"Date\": \"2016-12-31T00:00:00\", \"Value\": 2246.63}, {\"Date\": \"2017-01-31T00:00:00\", \"Value\": 2275.12}, {\"Date\": \"2017-02-28T00:00:00\", \"Value\": 2329.91}, {\"Date\": \"2017-03-31T00:00:00\", \"Value\": 2366.82}, {\"Date\": \"2017-04-30T00:00:00\", \"Value\": 2359.31}, {\"Date\": \"2017-05-31T00:00:00\", \"Value\": 2395.35}, {\"Date\": \"2017-06-30T00:00:00\", \"Value\": 2433.99}, {\"Date\": \"2017-07-31T00:00:00\", \"Value\": 2454.1}, {\"Date\": \"2017-08-31T00:00:00\", \"Value\": 2456.22}, {\"Date\": \"2017-09-30T00:00:00\", \"Value\": 2492.84}, {\"Date\": \"2017-10-31T00:00:00\", \"Value\": 2557.0}, {\"Date\": \"2017-11-30T00:00:00\", \"Value\": 2593.61}, {\"Date\": \"2017-12-31T00:00:00\", \"Value\": 2664.34}, {\"Date\": \"2018-01-31T00:00:00\", \"Value\": 2789.8}, {\"Date\": \"2018-02-28T00:00:00\", \"Value\": 2705.16}, {\"Date\": \"2018-03-31T00:00:00\", \"Value\": 2702.77}, {\"Date\": \"2018-04-30T00:00:00\", \"Value\": 2653.63}, {\"Date\": \"2018-05-31T00:00:00\", \"Value\": 2701.49}, {\"Date\": \"2018-06-30T00:00:00\", \"Value\": 2754.35}, {\"Date\": \"2018-07-31T00:00:00\", \"Value\": 2793.64}, {\"Date\": \"2018-08-31T00:00:00\", \"Value\": 2857.82}, {\"Date\": \"2018-09-30T00:00:00\", \"Value\": 2901.5}, {\"Date\": \"2018-10-31T00:00:00\", \"Value\": 2785.46}, {\"Date\": \"2018-11-30T00:00:00\", \"Value\": 2723.23}, {\"Date\": \"2018-12-31T00:00:00\", \"Value\": 2567.31}, {\"Date\": \"2019-01-31T00:00:00\", \"Value\": 2607.39}, {\"Date\": \"2019-02-28T00:00:00\", \"Value\": 2754.86}, {\"Date\": \"2019-03-31T00:00:00\", \"Value\": 2803.98}, {\"Date\": \"2019-04-30T00:00:00\", \"Value\": 2903.8}, {\"Date\": \"2019-05-31T00:00:00\", \"Value\": 2854.71}, {\"Date\": \"2019-06-30T00:00:00\", \"Value\": 2890.17}, {\"Date\": \"2019-07-31T00:00:00\", \"Value\": 2996.11}, {\"Date\": \"2019-08-31T00:00:00\", \"Value\": 2897.5}, {\"Date\": \"2019-09-30T00:00:00\", \"Value\": 2982.16}, {\"Date\": \"2019-10-31T00:00:00\", \"Value\": 2977.68}, {\"Date\": \"2019-11-30T00:00:00\", \"Value\": 3104.9}, {\"Date\": \"2019-12-31T00:00:00\", \"Value\": 3176.75}, {\"Date\": \"2020-01-31T00:00:00\", \"Value\": 3278.2}, {\"Date\": \"2020-02-29T00:00:00\", \"Value\": 3277.31}, {\"Date\": \"2020-03-31T00:00:00\", \"Value\": 2652.39}, {\"Date\": \"2020-04-30T00:00:00\", \"Value\": 2761.98}, {\"Date\": \"2020-05-31T00:00:00\", \"Value\": 2919.62}, {\"Date\": \"2020-06-30T00:00:00\", \"Value\": 3104.66}, {\"Date\": \"2020-07-31T00:00:00\", \"Value\": 3207.62}, {\"Date\": \"2020-08-31T00:00:00\", \"Value\": 3391.71}, {\"Date\": \"2020-09-30T00:00:00\", \"Value\": 3365.52}, {\"Date\": \"2020-10-31T00:00:00\", \"Value\": 3418.7}, {\"Date\": \"2020-11-30T00:00:00\", \"Value\": 3548.99}, {\"Date\": \"2020-12-31T00:00:00\", \"Value\": 3695.31}, {\"Date\": \"2021-01-31T00:00:00\", \"Value\": 3793.75}, {\"Date\": \"2021-02-28T00:00:00\", \"Value\": 3883.43}, {\"Date\": \"2021-03-31T00:00:00\", \"Value\": 3910.51}, {\"Date\": \"2021-04-30T00:00:00\", \"Value\": 4141.18}, {\"Date\": \"2021-05-31T00:00:00\", \"Value\": 4167.85}, {\"Date\": \"2021-06-30T00:00:00\", \"Value\": 4229.83}]}}, {\"mode\": \"vega-lite\"});\n",
       "</script>"
      ],
      "text/plain": [
       "alt.Chart(...)"
      ]
     },
     "execution_count": 6,
     "metadata": {},
     "output_type": "execute_result"
    }
   ],
   "source": [
    "alt.Chart(data).mark_area(\n",
    "    line=dict(color='black')\n",
    ").encode(\n",
    "    x='Date',\n",
    "    y='Value'\n",
    ")"
   ]
  },
  {
   "cell_type": "code",
   "execution_count": 7,
   "metadata": {},
   "outputs": [
    {
     "data": {
      "text/html": [
       "\n",
       "<div id=\"altair-viz-0d3ae053ea164da09a7a95dfabbb12aa\"></div>\n",
       "<script type=\"text/javascript\">\n",
       "  (function(spec, embedOpt){\n",
       "    let outputDiv = document.currentScript.previousElementSibling;\n",
       "    if (outputDiv.id !== \"altair-viz-0d3ae053ea164da09a7a95dfabbb12aa\") {\n",
       "      outputDiv = document.getElementById(\"altair-viz-0d3ae053ea164da09a7a95dfabbb12aa\");\n",
       "    }\n",
       "    const paths = {\n",
       "      \"vega\": \"https://cdn.jsdelivr.net/npm//vega@5?noext\",\n",
       "      \"vega-lib\": \"https://cdn.jsdelivr.net/npm//vega-lib?noext\",\n",
       "      \"vega-lite\": \"https://cdn.jsdelivr.net/npm//vega-lite@4.8.1?noext\",\n",
       "      \"vega-embed\": \"https://cdn.jsdelivr.net/npm//vega-embed@6?noext\",\n",
       "    };\n",
       "\n",
       "    function loadScript(lib) {\n",
       "      return new Promise(function(resolve, reject) {\n",
       "        var s = document.createElement('script');\n",
       "        s.src = paths[lib];\n",
       "        s.async = true;\n",
       "        s.onload = () => resolve(paths[lib]);\n",
       "        s.onerror = () => reject(`Error loading script: ${paths[lib]}`);\n",
       "        document.getElementsByTagName(\"head\")[0].appendChild(s);\n",
       "      });\n",
       "    }\n",
       "\n",
       "    function showError(err) {\n",
       "      outputDiv.innerHTML = `<div class=\"error\" style=\"color:red;\">${err}</div>`;\n",
       "      throw err;\n",
       "    }\n",
       "\n",
       "    function displayChart(vegaEmbed) {\n",
       "      vegaEmbed(outputDiv, spec, embedOpt)\n",
       "        .catch(err => showError(`Javascript Error: ${err.message}<br>This usually means there's a typo in your chart specification. See the javascript console for the full traceback.`));\n",
       "    }\n",
       "\n",
       "    if(typeof define === \"function\" && define.amd) {\n",
       "      requirejs.config({paths});\n",
       "      require([\"vega-embed\"], displayChart, err => showError(`Error loading script: ${err.message}`));\n",
       "    } else if (typeof vegaEmbed === \"function\") {\n",
       "      displayChart(vegaEmbed);\n",
       "    } else {\n",
       "      loadScript(\"vega\")\n",
       "        .then(() => loadScript(\"vega-lite\"))\n",
       "        .then(() => loadScript(\"vega-embed\"))\n",
       "        .catch(showError)\n",
       "        .then(() => displayChart(vegaEmbed));\n",
       "    }\n",
       "  })({\"config\": {\"view\": {\"continuousWidth\": 400, \"continuousHeight\": 300}}, \"data\": {\"name\": \"data-a1a42ad9aaa60760370223a3996d7ac0\"}, \"mark\": {\"type\": \"area\", \"line\": {\"color\": \"black\"}}, \"encoding\": {\"x\": {\"type\": \"temporal\", \"field\": \"Date\"}, \"y\": {\"type\": \"quantitative\", \"axis\": {\"format\": \"$d\", \"title\": \"Value\"}, \"field\": \"Value\"}}, \"title\": \"S&P500 Historical Prices\", \"width\": 800, \"$schema\": \"https://vega.github.io/schema/vega-lite/v4.8.1.json\", \"datasets\": {\"data-a1a42ad9aaa60760370223a3996d7ac0\": [{\"Date\": \"2011-06-30T00:00:00\", \"Value\": 1301.21}, {\"Date\": \"2011-07-31T00:00:00\", \"Value\": 1325.18}, {\"Date\": \"2011-08-31T00:00:00\", \"Value\": 1185.31}, {\"Date\": \"2011-09-30T00:00:00\", \"Value\": 1173.88}, {\"Date\": \"2011-10-31T00:00:00\", \"Value\": 1207.22}, {\"Date\": \"2011-11-30T00:00:00\", \"Value\": 1226.41}, {\"Date\": \"2011-12-31T00:00:00\", \"Value\": 1243.32}, {\"Date\": \"2012-01-31T00:00:00\", \"Value\": 1300.58}, {\"Date\": \"2012-02-29T00:00:00\", \"Value\": 1352.49}, {\"Date\": \"2012-03-31T00:00:00\", \"Value\": 1389.24}, {\"Date\": \"2012-04-30T00:00:00\", \"Value\": 1386.43}, {\"Date\": \"2012-05-31T00:00:00\", \"Value\": 1341.27}, {\"Date\": \"2012-06-30T00:00:00\", \"Value\": 1323.48}, {\"Date\": \"2012-07-31T00:00:00\", \"Value\": 1359.78}, {\"Date\": \"2012-08-31T00:00:00\", \"Value\": 1403.44}, {\"Date\": \"2012-09-30T00:00:00\", \"Value\": 1443.42}, {\"Date\": \"2012-10-31T00:00:00\", \"Value\": 1437.82}, {\"Date\": \"2012-11-30T00:00:00\", \"Value\": 1394.51}, {\"Date\": \"2012-12-31T00:00:00\", \"Value\": 1422.29}, {\"Date\": \"2013-01-31T00:00:00\", \"Value\": 1480.4}, {\"Date\": \"2013-02-28T00:00:00\", \"Value\": 1512.31}, {\"Date\": \"2013-03-31T00:00:00\", \"Value\": 1550.83}, {\"Date\": \"2013-04-30T00:00:00\", \"Value\": 1570.7}, {\"Date\": \"2013-05-31T00:00:00\", \"Value\": 1639.84}, {\"Date\": \"2013-06-30T00:00:00\", \"Value\": 1618.77}, {\"Date\": \"2013-07-31T00:00:00\", \"Value\": 1668.68}, {\"Date\": \"2013-08-31T00:00:00\", \"Value\": 1670.09}, {\"Date\": \"2013-09-30T00:00:00\", \"Value\": 1687.17}, {\"Date\": \"2013-10-31T00:00:00\", \"Value\": 1720.03}, {\"Date\": \"2013-11-30T00:00:00\", \"Value\": 1783.54}, {\"Date\": \"2013-12-31T00:00:00\", \"Value\": 1807.78}, {\"Date\": \"2014-01-31T00:00:00\", \"Value\": 1822.36}, {\"Date\": \"2014-02-28T00:00:00\", \"Value\": 1817.03}, {\"Date\": \"2014-03-31T00:00:00\", \"Value\": 1863.52}, {\"Date\": \"2014-04-30T00:00:00\", \"Value\": 1864.26}, {\"Date\": \"2014-05-31T00:00:00\", \"Value\": 1889.77}, {\"Date\": \"2014-06-30T00:00:00\", \"Value\": 1947.09}, {\"Date\": \"2014-07-31T00:00:00\", \"Value\": 1973.1}, {\"Date\": \"2014-08-31T00:00:00\", \"Value\": 1961.53}, {\"Date\": \"2014-09-30T00:00:00\", \"Value\": 1993.23}, {\"Date\": \"2014-10-31T00:00:00\", \"Value\": 1937.27}, {\"Date\": \"2014-11-30T00:00:00\", \"Value\": 2044.57}, {\"Date\": \"2014-12-31T00:00:00\", \"Value\": 2054.27}, {\"Date\": \"2015-01-31T00:00:00\", \"Value\": 2028.18}, {\"Date\": \"2015-02-28T00:00:00\", \"Value\": 2082.2}, {\"Date\": \"2015-03-31T00:00:00\", \"Value\": 2079.99}, {\"Date\": \"2015-04-30T00:00:00\", \"Value\": 2094.86}, {\"Date\": \"2015-05-31T00:00:00\", \"Value\": 2111.94}, {\"Date\": \"2015-06-30T00:00:00\", \"Value\": 2099.28}, {\"Date\": \"2015-07-31T00:00:00\", \"Value\": 2094.14}, {\"Date\": \"2015-08-31T00:00:00\", \"Value\": 2039.87}, {\"Date\": \"2015-09-30T00:00:00\", \"Value\": 1944.4}, {\"Date\": \"2015-10-31T00:00:00\", \"Value\": 2024.81}, {\"Date\": \"2015-11-30T00:00:00\", \"Value\": 2080.62}, {\"Date\": \"2015-12-31T00:00:00\", \"Value\": 2054.08}, {\"Date\": \"2016-01-31T00:00:00\", \"Value\": 1918.6}, {\"Date\": \"2016-02-29T00:00:00\", \"Value\": 1904.42}, {\"Date\": \"2016-03-31T00:00:00\", \"Value\": 2021.95}, {\"Date\": \"2016-04-30T00:00:00\", \"Value\": 2075.54}, {\"Date\": \"2016-05-31T00:00:00\", \"Value\": 2065.55}, {\"Date\": \"2016-06-30T00:00:00\", \"Value\": 2083.89}, {\"Date\": \"2016-07-31T00:00:00\", \"Value\": 2148.9}, {\"Date\": \"2016-08-31T00:00:00\", \"Value\": 2177.48}, {\"Date\": \"2016-09-30T00:00:00\", \"Value\": 2157.69}, {\"Date\": \"2016-10-31T00:00:00\", \"Value\": 2143.02}, {\"Date\": \"2016-11-30T00:00:00\", \"Value\": 2164.99}, {\"Date\": \"2016-12-31T00:00:00\", \"Value\": 2246.63}, {\"Date\": \"2017-01-31T00:00:00\", \"Value\": 2275.12}, {\"Date\": \"2017-02-28T00:00:00\", \"Value\": 2329.91}, {\"Date\": \"2017-03-31T00:00:00\", \"Value\": 2366.82}, {\"Date\": \"2017-04-30T00:00:00\", \"Value\": 2359.31}, {\"Date\": \"2017-05-31T00:00:00\", \"Value\": 2395.35}, {\"Date\": \"2017-06-30T00:00:00\", \"Value\": 2433.99}, {\"Date\": \"2017-07-31T00:00:00\", \"Value\": 2454.1}, {\"Date\": \"2017-08-31T00:00:00\", \"Value\": 2456.22}, {\"Date\": \"2017-09-30T00:00:00\", \"Value\": 2492.84}, {\"Date\": \"2017-10-31T00:00:00\", \"Value\": 2557.0}, {\"Date\": \"2017-11-30T00:00:00\", \"Value\": 2593.61}, {\"Date\": \"2017-12-31T00:00:00\", \"Value\": 2664.34}, {\"Date\": \"2018-01-31T00:00:00\", \"Value\": 2789.8}, {\"Date\": \"2018-02-28T00:00:00\", \"Value\": 2705.16}, {\"Date\": \"2018-03-31T00:00:00\", \"Value\": 2702.77}, {\"Date\": \"2018-04-30T00:00:00\", \"Value\": 2653.63}, {\"Date\": \"2018-05-31T00:00:00\", \"Value\": 2701.49}, {\"Date\": \"2018-06-30T00:00:00\", \"Value\": 2754.35}, {\"Date\": \"2018-07-31T00:00:00\", \"Value\": 2793.64}, {\"Date\": \"2018-08-31T00:00:00\", \"Value\": 2857.82}, {\"Date\": \"2018-09-30T00:00:00\", \"Value\": 2901.5}, {\"Date\": \"2018-10-31T00:00:00\", \"Value\": 2785.46}, {\"Date\": \"2018-11-30T00:00:00\", \"Value\": 2723.23}, {\"Date\": \"2018-12-31T00:00:00\", \"Value\": 2567.31}, {\"Date\": \"2019-01-31T00:00:00\", \"Value\": 2607.39}, {\"Date\": \"2019-02-28T00:00:00\", \"Value\": 2754.86}, {\"Date\": \"2019-03-31T00:00:00\", \"Value\": 2803.98}, {\"Date\": \"2019-04-30T00:00:00\", \"Value\": 2903.8}, {\"Date\": \"2019-05-31T00:00:00\", \"Value\": 2854.71}, {\"Date\": \"2019-06-30T00:00:00\", \"Value\": 2890.17}, {\"Date\": \"2019-07-31T00:00:00\", \"Value\": 2996.11}, {\"Date\": \"2019-08-31T00:00:00\", \"Value\": 2897.5}, {\"Date\": \"2019-09-30T00:00:00\", \"Value\": 2982.16}, {\"Date\": \"2019-10-31T00:00:00\", \"Value\": 2977.68}, {\"Date\": \"2019-11-30T00:00:00\", \"Value\": 3104.9}, {\"Date\": \"2019-12-31T00:00:00\", \"Value\": 3176.75}, {\"Date\": \"2020-01-31T00:00:00\", \"Value\": 3278.2}, {\"Date\": \"2020-02-29T00:00:00\", \"Value\": 3277.31}, {\"Date\": \"2020-03-31T00:00:00\", \"Value\": 2652.39}, {\"Date\": \"2020-04-30T00:00:00\", \"Value\": 2761.98}, {\"Date\": \"2020-05-31T00:00:00\", \"Value\": 2919.62}, {\"Date\": \"2020-06-30T00:00:00\", \"Value\": 3104.66}, {\"Date\": \"2020-07-31T00:00:00\", \"Value\": 3207.62}, {\"Date\": \"2020-08-31T00:00:00\", \"Value\": 3391.71}, {\"Date\": \"2020-09-30T00:00:00\", \"Value\": 3365.52}, {\"Date\": \"2020-10-31T00:00:00\", \"Value\": 3418.7}, {\"Date\": \"2020-11-30T00:00:00\", \"Value\": 3548.99}, {\"Date\": \"2020-12-31T00:00:00\", \"Value\": 3695.31}, {\"Date\": \"2021-01-31T00:00:00\", \"Value\": 3793.75}, {\"Date\": \"2021-02-28T00:00:00\", \"Value\": 3883.43}, {\"Date\": \"2021-03-31T00:00:00\", \"Value\": 3910.51}, {\"Date\": \"2021-04-30T00:00:00\", \"Value\": 4141.18}, {\"Date\": \"2021-05-31T00:00:00\", \"Value\": 4167.85}, {\"Date\": \"2021-06-30T00:00:00\", \"Value\": 4229.83}]}}, {\"mode\": \"vega-lite\"});\n",
       "</script>"
      ],
      "text/plain": [
       "alt.Chart(...)"
      ]
     },
     "execution_count": 7,
     "metadata": {},
     "output_type": "execute_result"
    }
   ],
   "source": [
    "alt.Chart(data).mark_area(\n",
    "    line=dict(color='black')\n",
    ").properties(\n",
    "    width=800,\n",
    "    title='S&P500 Historical Prices'\n",
    ").encode(\n",
    "    x='Date',\n",
    "    y=alt.Y('Value', axis=alt.Axis(format='$d', title='Value'))\n",
    ")"
   ]
  },
  {
   "cell_type": "code",
   "execution_count": 8,
   "metadata": {},
   "outputs": [
    {
     "data": {
      "text/html": [
       "\n",
       "<div id=\"altair-viz-bbcb09d4c07d468da4e5971d6a6f32b6\"></div>\n",
       "<script type=\"text/javascript\">\n",
       "  (function(spec, embedOpt){\n",
       "    let outputDiv = document.currentScript.previousElementSibling;\n",
       "    if (outputDiv.id !== \"altair-viz-bbcb09d4c07d468da4e5971d6a6f32b6\") {\n",
       "      outputDiv = document.getElementById(\"altair-viz-bbcb09d4c07d468da4e5971d6a6f32b6\");\n",
       "    }\n",
       "    const paths = {\n",
       "      \"vega\": \"https://cdn.jsdelivr.net/npm//vega@5?noext\",\n",
       "      \"vega-lib\": \"https://cdn.jsdelivr.net/npm//vega-lib?noext\",\n",
       "      \"vega-lite\": \"https://cdn.jsdelivr.net/npm//vega-lite@4.8.1?noext\",\n",
       "      \"vega-embed\": \"https://cdn.jsdelivr.net/npm//vega-embed@6?noext\",\n",
       "    };\n",
       "\n",
       "    function loadScript(lib) {\n",
       "      return new Promise(function(resolve, reject) {\n",
       "        var s = document.createElement('script');\n",
       "        s.src = paths[lib];\n",
       "        s.async = true;\n",
       "        s.onload = () => resolve(paths[lib]);\n",
       "        s.onerror = () => reject(`Error loading script: ${paths[lib]}`);\n",
       "        document.getElementsByTagName(\"head\")[0].appendChild(s);\n",
       "      });\n",
       "    }\n",
       "\n",
       "    function showError(err) {\n",
       "      outputDiv.innerHTML = `<div class=\"error\" style=\"color:red;\">${err}</div>`;\n",
       "      throw err;\n",
       "    }\n",
       "\n",
       "    function displayChart(vegaEmbed) {\n",
       "      vegaEmbed(outputDiv, spec, embedOpt)\n",
       "        .catch(err => showError(`Javascript Error: ${err.message}<br>This usually means there's a typo in your chart specification. See the javascript console for the full traceback.`));\n",
       "    }\n",
       "\n",
       "    if(typeof define === \"function\" && define.amd) {\n",
       "      requirejs.config({paths});\n",
       "      require([\"vega-embed\"], displayChart, err => showError(`Error loading script: ${err.message}`));\n",
       "    } else if (typeof vegaEmbed === \"function\") {\n",
       "      displayChart(vegaEmbed);\n",
       "    } else {\n",
       "      loadScript(\"vega\")\n",
       "        .then(() => loadScript(\"vega-lite\"))\n",
       "        .then(() => loadScript(\"vega-embed\"))\n",
       "        .catch(showError)\n",
       "        .then(() => displayChart(vegaEmbed));\n",
       "    }\n",
       "  })({\"config\": {\"view\": {\"continuousWidth\": 400, \"continuousHeight\": 300}}, \"data\": {\"name\": \"data-a1a42ad9aaa60760370223a3996d7ac0\"}, \"mark\": {\"type\": \"area\", \"color\": {\"gradient\": \"linear\", \"stops\": [{\"color\": \"green\", \"offset\": 0}, {\"color\": \"lightgreen\", \"offset\": 1}], \"x1\": 1, \"x2\": 1, \"y1\": 1, \"y2\": 0}, \"line\": {\"color\": \"black\"}}, \"encoding\": {\"x\": {\"type\": \"temporal\", \"field\": \"Date\"}, \"y\": {\"type\": \"quantitative\", \"axis\": {\"format\": \"$d\", \"title\": \"Value\"}, \"field\": \"Value\"}}, \"title\": \"S&P500 Historical Prices\", \"width\": 800, \"$schema\": \"https://vega.github.io/schema/vega-lite/v4.8.1.json\", \"datasets\": {\"data-a1a42ad9aaa60760370223a3996d7ac0\": [{\"Date\": \"2011-06-30T00:00:00\", \"Value\": 1301.21}, {\"Date\": \"2011-07-31T00:00:00\", \"Value\": 1325.18}, {\"Date\": \"2011-08-31T00:00:00\", \"Value\": 1185.31}, {\"Date\": \"2011-09-30T00:00:00\", \"Value\": 1173.88}, {\"Date\": \"2011-10-31T00:00:00\", \"Value\": 1207.22}, {\"Date\": \"2011-11-30T00:00:00\", \"Value\": 1226.41}, {\"Date\": \"2011-12-31T00:00:00\", \"Value\": 1243.32}, {\"Date\": \"2012-01-31T00:00:00\", \"Value\": 1300.58}, {\"Date\": \"2012-02-29T00:00:00\", \"Value\": 1352.49}, {\"Date\": \"2012-03-31T00:00:00\", \"Value\": 1389.24}, {\"Date\": \"2012-04-30T00:00:00\", \"Value\": 1386.43}, {\"Date\": \"2012-05-31T00:00:00\", \"Value\": 1341.27}, {\"Date\": \"2012-06-30T00:00:00\", \"Value\": 1323.48}, {\"Date\": \"2012-07-31T00:00:00\", \"Value\": 1359.78}, {\"Date\": \"2012-08-31T00:00:00\", \"Value\": 1403.44}, {\"Date\": \"2012-09-30T00:00:00\", \"Value\": 1443.42}, {\"Date\": \"2012-10-31T00:00:00\", \"Value\": 1437.82}, {\"Date\": \"2012-11-30T00:00:00\", \"Value\": 1394.51}, {\"Date\": \"2012-12-31T00:00:00\", \"Value\": 1422.29}, {\"Date\": \"2013-01-31T00:00:00\", \"Value\": 1480.4}, {\"Date\": \"2013-02-28T00:00:00\", \"Value\": 1512.31}, {\"Date\": \"2013-03-31T00:00:00\", \"Value\": 1550.83}, {\"Date\": \"2013-04-30T00:00:00\", \"Value\": 1570.7}, {\"Date\": \"2013-05-31T00:00:00\", \"Value\": 1639.84}, {\"Date\": \"2013-06-30T00:00:00\", \"Value\": 1618.77}, {\"Date\": \"2013-07-31T00:00:00\", \"Value\": 1668.68}, {\"Date\": \"2013-08-31T00:00:00\", \"Value\": 1670.09}, {\"Date\": \"2013-09-30T00:00:00\", \"Value\": 1687.17}, {\"Date\": \"2013-10-31T00:00:00\", \"Value\": 1720.03}, {\"Date\": \"2013-11-30T00:00:00\", \"Value\": 1783.54}, {\"Date\": \"2013-12-31T00:00:00\", \"Value\": 1807.78}, {\"Date\": \"2014-01-31T00:00:00\", \"Value\": 1822.36}, {\"Date\": \"2014-02-28T00:00:00\", \"Value\": 1817.03}, {\"Date\": \"2014-03-31T00:00:00\", \"Value\": 1863.52}, {\"Date\": \"2014-04-30T00:00:00\", \"Value\": 1864.26}, {\"Date\": \"2014-05-31T00:00:00\", \"Value\": 1889.77}, {\"Date\": \"2014-06-30T00:00:00\", \"Value\": 1947.09}, {\"Date\": \"2014-07-31T00:00:00\", \"Value\": 1973.1}, {\"Date\": \"2014-08-31T00:00:00\", \"Value\": 1961.53}, {\"Date\": \"2014-09-30T00:00:00\", \"Value\": 1993.23}, {\"Date\": \"2014-10-31T00:00:00\", \"Value\": 1937.27}, {\"Date\": \"2014-11-30T00:00:00\", \"Value\": 2044.57}, {\"Date\": \"2014-12-31T00:00:00\", \"Value\": 2054.27}, {\"Date\": \"2015-01-31T00:00:00\", \"Value\": 2028.18}, {\"Date\": \"2015-02-28T00:00:00\", \"Value\": 2082.2}, {\"Date\": \"2015-03-31T00:00:00\", \"Value\": 2079.99}, {\"Date\": \"2015-04-30T00:00:00\", \"Value\": 2094.86}, {\"Date\": \"2015-05-31T00:00:00\", \"Value\": 2111.94}, {\"Date\": \"2015-06-30T00:00:00\", \"Value\": 2099.28}, {\"Date\": \"2015-07-31T00:00:00\", \"Value\": 2094.14}, {\"Date\": \"2015-08-31T00:00:00\", \"Value\": 2039.87}, {\"Date\": \"2015-09-30T00:00:00\", \"Value\": 1944.4}, {\"Date\": \"2015-10-31T00:00:00\", \"Value\": 2024.81}, {\"Date\": \"2015-11-30T00:00:00\", \"Value\": 2080.62}, {\"Date\": \"2015-12-31T00:00:00\", \"Value\": 2054.08}, {\"Date\": \"2016-01-31T00:00:00\", \"Value\": 1918.6}, {\"Date\": \"2016-02-29T00:00:00\", \"Value\": 1904.42}, {\"Date\": \"2016-03-31T00:00:00\", \"Value\": 2021.95}, {\"Date\": \"2016-04-30T00:00:00\", \"Value\": 2075.54}, {\"Date\": \"2016-05-31T00:00:00\", \"Value\": 2065.55}, {\"Date\": \"2016-06-30T00:00:00\", \"Value\": 2083.89}, {\"Date\": \"2016-07-31T00:00:00\", \"Value\": 2148.9}, {\"Date\": \"2016-08-31T00:00:00\", \"Value\": 2177.48}, {\"Date\": \"2016-09-30T00:00:00\", \"Value\": 2157.69}, {\"Date\": \"2016-10-31T00:00:00\", \"Value\": 2143.02}, {\"Date\": \"2016-11-30T00:00:00\", \"Value\": 2164.99}, {\"Date\": \"2016-12-31T00:00:00\", \"Value\": 2246.63}, {\"Date\": \"2017-01-31T00:00:00\", \"Value\": 2275.12}, {\"Date\": \"2017-02-28T00:00:00\", \"Value\": 2329.91}, {\"Date\": \"2017-03-31T00:00:00\", \"Value\": 2366.82}, {\"Date\": \"2017-04-30T00:00:00\", \"Value\": 2359.31}, {\"Date\": \"2017-05-31T00:00:00\", \"Value\": 2395.35}, {\"Date\": \"2017-06-30T00:00:00\", \"Value\": 2433.99}, {\"Date\": \"2017-07-31T00:00:00\", \"Value\": 2454.1}, {\"Date\": \"2017-08-31T00:00:00\", \"Value\": 2456.22}, {\"Date\": \"2017-09-30T00:00:00\", \"Value\": 2492.84}, {\"Date\": \"2017-10-31T00:00:00\", \"Value\": 2557.0}, {\"Date\": \"2017-11-30T00:00:00\", \"Value\": 2593.61}, {\"Date\": \"2017-12-31T00:00:00\", \"Value\": 2664.34}, {\"Date\": \"2018-01-31T00:00:00\", \"Value\": 2789.8}, {\"Date\": \"2018-02-28T00:00:00\", \"Value\": 2705.16}, {\"Date\": \"2018-03-31T00:00:00\", \"Value\": 2702.77}, {\"Date\": \"2018-04-30T00:00:00\", \"Value\": 2653.63}, {\"Date\": \"2018-05-31T00:00:00\", \"Value\": 2701.49}, {\"Date\": \"2018-06-30T00:00:00\", \"Value\": 2754.35}, {\"Date\": \"2018-07-31T00:00:00\", \"Value\": 2793.64}, {\"Date\": \"2018-08-31T00:00:00\", \"Value\": 2857.82}, {\"Date\": \"2018-09-30T00:00:00\", \"Value\": 2901.5}, {\"Date\": \"2018-10-31T00:00:00\", \"Value\": 2785.46}, {\"Date\": \"2018-11-30T00:00:00\", \"Value\": 2723.23}, {\"Date\": \"2018-12-31T00:00:00\", \"Value\": 2567.31}, {\"Date\": \"2019-01-31T00:00:00\", \"Value\": 2607.39}, {\"Date\": \"2019-02-28T00:00:00\", \"Value\": 2754.86}, {\"Date\": \"2019-03-31T00:00:00\", \"Value\": 2803.98}, {\"Date\": \"2019-04-30T00:00:00\", \"Value\": 2903.8}, {\"Date\": \"2019-05-31T00:00:00\", \"Value\": 2854.71}, {\"Date\": \"2019-06-30T00:00:00\", \"Value\": 2890.17}, {\"Date\": \"2019-07-31T00:00:00\", \"Value\": 2996.11}, {\"Date\": \"2019-08-31T00:00:00\", \"Value\": 2897.5}, {\"Date\": \"2019-09-30T00:00:00\", \"Value\": 2982.16}, {\"Date\": \"2019-10-31T00:00:00\", \"Value\": 2977.68}, {\"Date\": \"2019-11-30T00:00:00\", \"Value\": 3104.9}, {\"Date\": \"2019-12-31T00:00:00\", \"Value\": 3176.75}, {\"Date\": \"2020-01-31T00:00:00\", \"Value\": 3278.2}, {\"Date\": \"2020-02-29T00:00:00\", \"Value\": 3277.31}, {\"Date\": \"2020-03-31T00:00:00\", \"Value\": 2652.39}, {\"Date\": \"2020-04-30T00:00:00\", \"Value\": 2761.98}, {\"Date\": \"2020-05-31T00:00:00\", \"Value\": 2919.62}, {\"Date\": \"2020-06-30T00:00:00\", \"Value\": 3104.66}, {\"Date\": \"2020-07-31T00:00:00\", \"Value\": 3207.62}, {\"Date\": \"2020-08-31T00:00:00\", \"Value\": 3391.71}, {\"Date\": \"2020-09-30T00:00:00\", \"Value\": 3365.52}, {\"Date\": \"2020-10-31T00:00:00\", \"Value\": 3418.7}, {\"Date\": \"2020-11-30T00:00:00\", \"Value\": 3548.99}, {\"Date\": \"2020-12-31T00:00:00\", \"Value\": 3695.31}, {\"Date\": \"2021-01-31T00:00:00\", \"Value\": 3793.75}, {\"Date\": \"2021-02-28T00:00:00\", \"Value\": 3883.43}, {\"Date\": \"2021-03-31T00:00:00\", \"Value\": 3910.51}, {\"Date\": \"2021-04-30T00:00:00\", \"Value\": 4141.18}, {\"Date\": \"2021-05-31T00:00:00\", \"Value\": 4167.85}, {\"Date\": \"2021-06-30T00:00:00\", \"Value\": 4229.83}]}}, {\"mode\": \"vega-lite\"});\n",
       "</script>"
      ],
      "text/plain": [
       "alt.Chart(...)"
      ]
     },
     "execution_count": 8,
     "metadata": {},
     "output_type": "execute_result"
    }
   ],
   "source": [
    "alt.Chart(data).mark_area(\n",
    "    line=dict(color='black'),\n",
    "    color=alt.Gradient(\n",
    "        gradient='linear',\n",
    "        stops=[\n",
    "            alt.GradientStop(color='green', offset=0),\n",
    "            alt.GradientStop(color='lightgreen', offset=1)\n",
    "        ],\n",
    "        x1=1, x2=1, y1=1, y2=0\n",
    "    )\n",
    ").properties(\n",
    "    width=800,\n",
    "    title='S&P500 Historical Prices'\n",
    ").encode(\n",
    "    x='Date',\n",
    "    y=alt.Y('Value', axis=alt.Axis(format='$d', title='Value'))\n",
    ")"
   ]
  },
  {
   "cell_type": "code",
   "execution_count": 9,
   "metadata": {},
   "outputs": [
    {
     "data": {
      "text/html": [
       "\n",
       "<div id=\"altair-viz-248626434fc14bd8b0be56f3d641647b\"></div>\n",
       "<script type=\"text/javascript\">\n",
       "  (function(spec, embedOpt){\n",
       "    let outputDiv = document.currentScript.previousElementSibling;\n",
       "    if (outputDiv.id !== \"altair-viz-248626434fc14bd8b0be56f3d641647b\") {\n",
       "      outputDiv = document.getElementById(\"altair-viz-248626434fc14bd8b0be56f3d641647b\");\n",
       "    }\n",
       "    const paths = {\n",
       "      \"vega\": \"https://cdn.jsdelivr.net/npm//vega@5?noext\",\n",
       "      \"vega-lib\": \"https://cdn.jsdelivr.net/npm//vega-lib?noext\",\n",
       "      \"vega-lite\": \"https://cdn.jsdelivr.net/npm//vega-lite@4.8.1?noext\",\n",
       "      \"vega-embed\": \"https://cdn.jsdelivr.net/npm//vega-embed@6?noext\",\n",
       "    };\n",
       "\n",
       "    function loadScript(lib) {\n",
       "      return new Promise(function(resolve, reject) {\n",
       "        var s = document.createElement('script');\n",
       "        s.src = paths[lib];\n",
       "        s.async = true;\n",
       "        s.onload = () => resolve(paths[lib]);\n",
       "        s.onerror = () => reject(`Error loading script: ${paths[lib]}`);\n",
       "        document.getElementsByTagName(\"head\")[0].appendChild(s);\n",
       "      });\n",
       "    }\n",
       "\n",
       "    function showError(err) {\n",
       "      outputDiv.innerHTML = `<div class=\"error\" style=\"color:red;\">${err}</div>`;\n",
       "      throw err;\n",
       "    }\n",
       "\n",
       "    function displayChart(vegaEmbed) {\n",
       "      vegaEmbed(outputDiv, spec, embedOpt)\n",
       "        .catch(err => showError(`Javascript Error: ${err.message}<br>This usually means there's a typo in your chart specification. See the javascript console for the full traceback.`));\n",
       "    }\n",
       "\n",
       "    if(typeof define === \"function\" && define.amd) {\n",
       "      requirejs.config({paths});\n",
       "      require([\"vega-embed\"], displayChart, err => showError(`Error loading script: ${err.message}`));\n",
       "    } else if (typeof vegaEmbed === \"function\") {\n",
       "      displayChart(vegaEmbed);\n",
       "    } else {\n",
       "      loadScript(\"vega\")\n",
       "        .then(() => loadScript(\"vega-lite\"))\n",
       "        .then(() => loadScript(\"vega-embed\"))\n",
       "        .catch(showError)\n",
       "        .then(() => displayChart(vegaEmbed));\n",
       "    }\n",
       "  })({\"config\": {\"view\": {\"continuousWidth\": 400, \"continuousHeight\": 300}}, \"data\": {\"name\": \"data-a1a42ad9aaa60760370223a3996d7ac0\"}, \"mark\": {\"type\": \"area\", \"color\": {\"gradient\": \"linear\", \"stops\": [{\"color\": \"green\", \"offset\": 0}, {\"color\": \"lightgreen\", \"offset\": 1}], \"x1\": 1, \"x2\": 1, \"y1\": 1, \"y2\": 0}, \"line\": {\"color\": \"black\"}}, \"encoding\": {\"tooltip\": [{\"type\": \"temporal\", \"field\": \"Date\"}, {\"type\": \"quantitative\", \"field\": \"Value\"}], \"x\": {\"type\": \"temporal\", \"field\": \"Date\"}, \"y\": {\"type\": \"quantitative\", \"axis\": {\"format\": \"$d\", \"title\": \"Value\"}, \"field\": \"Value\"}}, \"title\": \"S&P500 Historical Prices\", \"width\": 800, \"$schema\": \"https://vega.github.io/schema/vega-lite/v4.8.1.json\", \"datasets\": {\"data-a1a42ad9aaa60760370223a3996d7ac0\": [{\"Date\": \"2011-06-30T00:00:00\", \"Value\": 1301.21}, {\"Date\": \"2011-07-31T00:00:00\", \"Value\": 1325.18}, {\"Date\": \"2011-08-31T00:00:00\", \"Value\": 1185.31}, {\"Date\": \"2011-09-30T00:00:00\", \"Value\": 1173.88}, {\"Date\": \"2011-10-31T00:00:00\", \"Value\": 1207.22}, {\"Date\": \"2011-11-30T00:00:00\", \"Value\": 1226.41}, {\"Date\": \"2011-12-31T00:00:00\", \"Value\": 1243.32}, {\"Date\": \"2012-01-31T00:00:00\", \"Value\": 1300.58}, {\"Date\": \"2012-02-29T00:00:00\", \"Value\": 1352.49}, {\"Date\": \"2012-03-31T00:00:00\", \"Value\": 1389.24}, {\"Date\": \"2012-04-30T00:00:00\", \"Value\": 1386.43}, {\"Date\": \"2012-05-31T00:00:00\", \"Value\": 1341.27}, {\"Date\": \"2012-06-30T00:00:00\", \"Value\": 1323.48}, {\"Date\": \"2012-07-31T00:00:00\", \"Value\": 1359.78}, {\"Date\": \"2012-08-31T00:00:00\", \"Value\": 1403.44}, {\"Date\": \"2012-09-30T00:00:00\", \"Value\": 1443.42}, {\"Date\": \"2012-10-31T00:00:00\", \"Value\": 1437.82}, {\"Date\": \"2012-11-30T00:00:00\", \"Value\": 1394.51}, {\"Date\": \"2012-12-31T00:00:00\", \"Value\": 1422.29}, {\"Date\": \"2013-01-31T00:00:00\", \"Value\": 1480.4}, {\"Date\": \"2013-02-28T00:00:00\", \"Value\": 1512.31}, {\"Date\": \"2013-03-31T00:00:00\", \"Value\": 1550.83}, {\"Date\": \"2013-04-30T00:00:00\", \"Value\": 1570.7}, {\"Date\": \"2013-05-31T00:00:00\", \"Value\": 1639.84}, {\"Date\": \"2013-06-30T00:00:00\", \"Value\": 1618.77}, {\"Date\": \"2013-07-31T00:00:00\", \"Value\": 1668.68}, {\"Date\": \"2013-08-31T00:00:00\", \"Value\": 1670.09}, {\"Date\": \"2013-09-30T00:00:00\", \"Value\": 1687.17}, {\"Date\": \"2013-10-31T00:00:00\", \"Value\": 1720.03}, {\"Date\": \"2013-11-30T00:00:00\", \"Value\": 1783.54}, {\"Date\": \"2013-12-31T00:00:00\", \"Value\": 1807.78}, {\"Date\": \"2014-01-31T00:00:00\", \"Value\": 1822.36}, {\"Date\": \"2014-02-28T00:00:00\", \"Value\": 1817.03}, {\"Date\": \"2014-03-31T00:00:00\", \"Value\": 1863.52}, {\"Date\": \"2014-04-30T00:00:00\", \"Value\": 1864.26}, {\"Date\": \"2014-05-31T00:00:00\", \"Value\": 1889.77}, {\"Date\": \"2014-06-30T00:00:00\", \"Value\": 1947.09}, {\"Date\": \"2014-07-31T00:00:00\", \"Value\": 1973.1}, {\"Date\": \"2014-08-31T00:00:00\", \"Value\": 1961.53}, {\"Date\": \"2014-09-30T00:00:00\", \"Value\": 1993.23}, {\"Date\": \"2014-10-31T00:00:00\", \"Value\": 1937.27}, {\"Date\": \"2014-11-30T00:00:00\", \"Value\": 2044.57}, {\"Date\": \"2014-12-31T00:00:00\", \"Value\": 2054.27}, {\"Date\": \"2015-01-31T00:00:00\", \"Value\": 2028.18}, {\"Date\": \"2015-02-28T00:00:00\", \"Value\": 2082.2}, {\"Date\": \"2015-03-31T00:00:00\", \"Value\": 2079.99}, {\"Date\": \"2015-04-30T00:00:00\", \"Value\": 2094.86}, {\"Date\": \"2015-05-31T00:00:00\", \"Value\": 2111.94}, {\"Date\": \"2015-06-30T00:00:00\", \"Value\": 2099.28}, {\"Date\": \"2015-07-31T00:00:00\", \"Value\": 2094.14}, {\"Date\": \"2015-08-31T00:00:00\", \"Value\": 2039.87}, {\"Date\": \"2015-09-30T00:00:00\", \"Value\": 1944.4}, {\"Date\": \"2015-10-31T00:00:00\", \"Value\": 2024.81}, {\"Date\": \"2015-11-30T00:00:00\", \"Value\": 2080.62}, {\"Date\": \"2015-12-31T00:00:00\", \"Value\": 2054.08}, {\"Date\": \"2016-01-31T00:00:00\", \"Value\": 1918.6}, {\"Date\": \"2016-02-29T00:00:00\", \"Value\": 1904.42}, {\"Date\": \"2016-03-31T00:00:00\", \"Value\": 2021.95}, {\"Date\": \"2016-04-30T00:00:00\", \"Value\": 2075.54}, {\"Date\": \"2016-05-31T00:00:00\", \"Value\": 2065.55}, {\"Date\": \"2016-06-30T00:00:00\", \"Value\": 2083.89}, {\"Date\": \"2016-07-31T00:00:00\", \"Value\": 2148.9}, {\"Date\": \"2016-08-31T00:00:00\", \"Value\": 2177.48}, {\"Date\": \"2016-09-30T00:00:00\", \"Value\": 2157.69}, {\"Date\": \"2016-10-31T00:00:00\", \"Value\": 2143.02}, {\"Date\": \"2016-11-30T00:00:00\", \"Value\": 2164.99}, {\"Date\": \"2016-12-31T00:00:00\", \"Value\": 2246.63}, {\"Date\": \"2017-01-31T00:00:00\", \"Value\": 2275.12}, {\"Date\": \"2017-02-28T00:00:00\", \"Value\": 2329.91}, {\"Date\": \"2017-03-31T00:00:00\", \"Value\": 2366.82}, {\"Date\": \"2017-04-30T00:00:00\", \"Value\": 2359.31}, {\"Date\": \"2017-05-31T00:00:00\", \"Value\": 2395.35}, {\"Date\": \"2017-06-30T00:00:00\", \"Value\": 2433.99}, {\"Date\": \"2017-07-31T00:00:00\", \"Value\": 2454.1}, {\"Date\": \"2017-08-31T00:00:00\", \"Value\": 2456.22}, {\"Date\": \"2017-09-30T00:00:00\", \"Value\": 2492.84}, {\"Date\": \"2017-10-31T00:00:00\", \"Value\": 2557.0}, {\"Date\": \"2017-11-30T00:00:00\", \"Value\": 2593.61}, {\"Date\": \"2017-12-31T00:00:00\", \"Value\": 2664.34}, {\"Date\": \"2018-01-31T00:00:00\", \"Value\": 2789.8}, {\"Date\": \"2018-02-28T00:00:00\", \"Value\": 2705.16}, {\"Date\": \"2018-03-31T00:00:00\", \"Value\": 2702.77}, {\"Date\": \"2018-04-30T00:00:00\", \"Value\": 2653.63}, {\"Date\": \"2018-05-31T00:00:00\", \"Value\": 2701.49}, {\"Date\": \"2018-06-30T00:00:00\", \"Value\": 2754.35}, {\"Date\": \"2018-07-31T00:00:00\", \"Value\": 2793.64}, {\"Date\": \"2018-08-31T00:00:00\", \"Value\": 2857.82}, {\"Date\": \"2018-09-30T00:00:00\", \"Value\": 2901.5}, {\"Date\": \"2018-10-31T00:00:00\", \"Value\": 2785.46}, {\"Date\": \"2018-11-30T00:00:00\", \"Value\": 2723.23}, {\"Date\": \"2018-12-31T00:00:00\", \"Value\": 2567.31}, {\"Date\": \"2019-01-31T00:00:00\", \"Value\": 2607.39}, {\"Date\": \"2019-02-28T00:00:00\", \"Value\": 2754.86}, {\"Date\": \"2019-03-31T00:00:00\", \"Value\": 2803.98}, {\"Date\": \"2019-04-30T00:00:00\", \"Value\": 2903.8}, {\"Date\": \"2019-05-31T00:00:00\", \"Value\": 2854.71}, {\"Date\": \"2019-06-30T00:00:00\", \"Value\": 2890.17}, {\"Date\": \"2019-07-31T00:00:00\", \"Value\": 2996.11}, {\"Date\": \"2019-08-31T00:00:00\", \"Value\": 2897.5}, {\"Date\": \"2019-09-30T00:00:00\", \"Value\": 2982.16}, {\"Date\": \"2019-10-31T00:00:00\", \"Value\": 2977.68}, {\"Date\": \"2019-11-30T00:00:00\", \"Value\": 3104.9}, {\"Date\": \"2019-12-31T00:00:00\", \"Value\": 3176.75}, {\"Date\": \"2020-01-31T00:00:00\", \"Value\": 3278.2}, {\"Date\": \"2020-02-29T00:00:00\", \"Value\": 3277.31}, {\"Date\": \"2020-03-31T00:00:00\", \"Value\": 2652.39}, {\"Date\": \"2020-04-30T00:00:00\", \"Value\": 2761.98}, {\"Date\": \"2020-05-31T00:00:00\", \"Value\": 2919.62}, {\"Date\": \"2020-06-30T00:00:00\", \"Value\": 3104.66}, {\"Date\": \"2020-07-31T00:00:00\", \"Value\": 3207.62}, {\"Date\": \"2020-08-31T00:00:00\", \"Value\": 3391.71}, {\"Date\": \"2020-09-30T00:00:00\", \"Value\": 3365.52}, {\"Date\": \"2020-10-31T00:00:00\", \"Value\": 3418.7}, {\"Date\": \"2020-11-30T00:00:00\", \"Value\": 3548.99}, {\"Date\": \"2020-12-31T00:00:00\", \"Value\": 3695.31}, {\"Date\": \"2021-01-31T00:00:00\", \"Value\": 3793.75}, {\"Date\": \"2021-02-28T00:00:00\", \"Value\": 3883.43}, {\"Date\": \"2021-03-31T00:00:00\", \"Value\": 3910.51}, {\"Date\": \"2021-04-30T00:00:00\", \"Value\": 4141.18}, {\"Date\": \"2021-05-31T00:00:00\", \"Value\": 4167.85}, {\"Date\": \"2021-06-30T00:00:00\", \"Value\": 4229.83}]}}, {\"mode\": \"vega-lite\"});\n",
       "</script>"
      ],
      "text/plain": [
       "alt.Chart(...)"
      ]
     },
     "execution_count": 9,
     "metadata": {},
     "output_type": "execute_result"
    }
   ],
   "source": [
    "alt.Chart(data).mark_area(\n",
    "    line=dict(color='black'),\n",
    "    color=alt.Gradient(\n",
    "        gradient='linear',\n",
    "        stops=[\n",
    "            alt.GradientStop(color='green', offset=0),\n",
    "            alt.GradientStop(color='lightgreen', offset=1)\n",
    "        ],\n",
    "        x1=1, x2=1, y1=1, y2=0\n",
    "    )\n",
    ").properties(\n",
    "    width=800,\n",
    "    title='S&P500 Historical Prices'\n",
    ").encode(\n",
    "    x='Date',\n",
    "    y=alt.Y('Value', axis=alt.Axis(format='$d', title='Value')),\n",
    "    tooltip=['Date', 'Value']\n",
    ")"
   ]
  },
  {
   "cell_type": "markdown",
   "metadata": {},
   "source": [
    "Saving charts"
   ]
  },
  {
   "cell_type": "code",
   "execution_count": 10,
   "metadata": {},
   "outputs": [],
   "source": [
    "final_chart = alt.Chart(data).mark_area(\n",
    "    line=dict(color='black'),\n",
    "    color=alt.Gradient(\n",
    "        gradient='linear',\n",
    "        stops=[\n",
    "            alt.GradientStop(color='green', offset=0),\n",
    "            alt.GradientStop(color='lightgreen', offset=1)\n",
    "        ],\n",
    "        x1=1, x2=1, y1=1, y2=0\n",
    "    )\n",
    ").properties(\n",
    "    width=800,\n",
    "    title='S&P500 Historical Prices'\n",
    ").encode(\n",
    "    x='Date',\n",
    "    y=alt.Y('Value', axis=alt.Axis(format='$d', title='Value')),\n",
    "    tooltip=['Date', 'Value']\n",
    ")"
   ]
  },
  {
   "cell_type": "code",
   "execution_count": 11,
   "metadata": {},
   "outputs": [],
   "source": [
    "#save(final_chart, 'chart.json')\n",
    "#save(final_chart, 'chart.html')"
   ]
  },
  {
   "cell_type": "code",
   "execution_count": null,
   "metadata": {},
   "outputs": [],
   "source": []
  }
 ],
 "metadata": {
  "kernelspec": {
   "display_name": "Python 3",
   "language": "python",
   "name": "python3"
  },
  "language_info": {
   "codemirror_mode": {
    "name": "ipython",
    "version": 3
   },
   "file_extension": ".py",
   "mimetype": "text/x-python",
   "name": "python",
   "nbconvert_exporter": "python",
   "pygments_lexer": "ipython3",
   "version": "3.7.3"
  }
 },
 "nbformat": 4,
 "nbformat_minor": 2
}
